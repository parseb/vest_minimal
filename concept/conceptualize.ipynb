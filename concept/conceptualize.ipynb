{
 "cells": [
  {
   "cell_type": "markdown",
   "id": "f6678fc9",
   "metadata": {},
   "source": [
    "## Vesting Contract Minimal Storage\n",
    "____\n",
    "\n",
    "Attept to create a redctuionist version of a vesting contract that can be interfaced with on the fly. <br>\n",
    "Concept skething below.\n"
   ]
  },
  {
   "cell_type": "code",
   "execution_count": null,
   "id": "d25d8ab7",
   "metadata": {},
   "outputs": [],
   "source": [
    "from time import time\n",
    "#import pandas as pd\n",
    "import random"
   ]
  },
  {
   "cell_type": "code",
   "execution_count": null,
   "id": "7d30666b",
   "metadata": {},
   "outputs": [],
   "source": [
    "#mapping [token][amount]"
   ]
  },
  {
   "cell_type": "code",
   "execution_count": null,
   "id": "96ea73c9",
   "metadata": {},
   "outputs": [],
   "source": [
    "maxint = 115792089237316195423570985008687907853269984665640564039457584007913129639934\n",
    "a = {\"DAI\":{\"John\":123456788346864385390573}}\n",
    "b = {\"USDC\":{\"Ana\":1234567}}\n",
    "\n"
   ]
  },
  {
   "cell_type": "code",
   "execution_count": null,
   "id": "0101307c",
   "metadata": {},
   "outputs": [],
   "source": [
    "len(\"115792089237316195423570985008687907853269984665640564039457584007913129639934\")"
   ]
  },
  {
   "cell_type": "code",
   "execution_count": null,
   "id": "4dbf4fa3",
   "metadata": {},
   "outputs": [],
   "source": [
    "#constant product over should work and works\n",
    "False"
   ]
  },
  {
   "cell_type": "code",
   "execution_count": null,
   "id": "3dea75dc",
   "metadata": {},
   "outputs": [],
   "source": []
  },
  {
   "cell_type": "code",
   "execution_count": null,
   "id": "f3524002",
   "metadata": {},
   "outputs": [],
   "source": [
    "from time import time\n",
    "import random\n",
    "\n",
    "k = 999_999_999_999_999\n",
    "amounts = [int(i) for i in random.sample(range(306, k), 1000)]\n",
    "\n",
    "def encode(amount,time_end,_k):\n",
    "    # require k > amount\n",
    "    return _k* (amount) + time_end\n",
    "\n",
    "def decode(uint,k):\n",
    "    return [int(uint / k), int(uint % k)]\n",
    "\n",
    "for i in amounts:\n",
    "    t = random.randrange(int(time()), int(time())* random.randrange(2,3))\n",
    "    encoded = encode(i,t,k)\n",
    "    decoded = decode(encoded,k)\n",
    "    print(i, \" = \", decoded[0], t, \" = \", decoded[1])\n",
    "    print(i, \" - \", t , encode(k,i,t), \" - \", decoded[0] == int(i) , decoded[1] ==  int(t))"
   ]
  },
  {
   "cell_type": "code",
   "execution_count": null,
   "id": "9888db0c",
   "metadata": {},
   "outputs": [],
   "source": []
  },
  {
   "cell_type": "code",
   "execution_count": null,
   "id": "c13e737b",
   "metadata": {},
   "outputs": [],
   "source": [
    "len( str( int(k*k*time()* (10**19) )) ) < 78"
   ]
  },
  {
   "cell_type": "code",
   "execution_count": null,
   "id": "7c39994d",
   "metadata": {},
   "outputs": [],
   "source": []
  }
 ],
 "metadata": {
  "kernelspec": {
   "display_name": "Python 3 (ipykernel)",
   "language": "python",
   "name": "python3"
  },
  "language_info": {
   "codemirror_mode": {
    "name": "ipython",
    "version": 3
   },
   "file_extension": ".py",
   "mimetype": "text/x-python",
   "name": "python",
   "nbconvert_exporter": "python",
   "pygments_lexer": "ipython3",
   "version": "3.8.10"
  }
 },
 "nbformat": 4,
 "nbformat_minor": 5
}
